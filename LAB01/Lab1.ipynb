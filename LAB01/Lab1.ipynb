{
  "nbformat": 4,
  "nbformat_minor": 0,
  "metadata": {
    "colab": {
      "name": "Lab1.ipynb",
      "provenance": [],
      "authorship_tag": "ABX9TyMtPZTXy6eYVoHCdjcXy6Y6",
      "include_colab_link": true
    },
    "kernelspec": {
      "name": "python3",
      "display_name": "Python 3"
    },
    "language_info": {
      "name": "python"
    }
  },
  "cells": [
    {
      "cell_type": "markdown",
      "metadata": {
        "id": "view-in-github",
        "colab_type": "text"
      },
      "source": [
        "<a href=\"https://colab.research.google.com/github/PhuongNhiNhi/AdvancedPythonProgramming/blob/main/LAB01/Lab1.ipynb\" target=\"_parent\"><img src=\"https://colab.research.google.com/assets/colab-badge.svg\" alt=\"Open In Colab\"/></a>"
      ]
    },
    {
      "cell_type": "markdown",
      "metadata": {
        "id": "wxSvj2lshRhe"
      },
      "source": [
        "Bài 1"
      ]
    },
    {
      "cell_type": "code",
      "metadata": {
        "colab": {
          "base_uri": "https://localhost:8080/"
        },
        "id": "axUsNTNEakoa",
        "outputId": "ed54f750-ac0f-438d-ef16-7d4106a650dd"
      },
      "source": [
        "min(2, 3, 4)"
      ],
      "execution_count": 1,
      "outputs": [
        {
          "output_type": "execute_result",
          "data": {
            "text/plain": [
              "2"
            ]
          },
          "metadata": {},
          "execution_count": 1
        }
      ]
    },
    {
      "cell_type": "markdown",
      "metadata": {
        "id": "eC4VsCfKhbfZ"
      },
      "source": [
        ""
      ]
    },
    {
      "cell_type": "code",
      "metadata": {
        "colab": {
          "base_uri": "https://localhost:8080/"
        },
        "id": "HPQmh1TrakpH",
        "outputId": "b87e0836-df70-4bb7-d11d-11c5c2bd30c1"
      },
      "source": [
        "max(2, -3, 4, 7, -5)"
      ],
      "execution_count": 2,
      "outputs": [
        {
          "output_type": "execute_result",
          "data": {
            "text/plain": [
              "7"
            ]
          },
          "metadata": {},
          "execution_count": 2
        }
      ]
    },
    {
      "cell_type": "code",
      "metadata": {
        "colab": {
          "base_uri": "https://localhost:8080/"
        },
        "id": "w2YEemE6aphB",
        "outputId": "b55dfb22-9b14-4bbc-da1d-5d69400b2fab"
      },
      "source": [
        "max(2, -3, min(4, 7), -5)"
      ],
      "execution_count": 3,
      "outputs": [
        {
          "output_type": "execute_result",
          "data": {
            "text/plain": [
              "4"
            ]
          },
          "metadata": {},
          "execution_count": 3
        }
      ]
    },
    {
      "cell_type": "markdown",
      "metadata": {
        "id": "OveMKCDKhbef"
      },
      "source": [
        "Bài 2"
      ]
    },
    {
      "cell_type": "code",
      "metadata": {
        "colab": {
          "base_uri": "https://localhost:8080/"
        },
        "id": "WwX3SegjawA0",
        "outputId": "c617ec2b-fcb6-4336-ac26-c654beb0a292"
      },
      "source": [
        "min(max(3, 4), abs(-5))"
      ],
      "execution_count": 4,
      "outputs": [
        {
          "output_type": "execute_result",
          "data": {
            "text/plain": [
              "4"
            ]
          },
          "metadata": {},
          "execution_count": 4
        }
      ]
    },
    {
      "cell_type": "code",
      "metadata": {
        "colab": {
          "base_uri": "https://localhost:8080/"
        },
        "id": "iUiv6sH2aw9U",
        "outputId": "a3504937-bfc6-42f4-f2e7-80785caf2657"
      },
      "source": [
        "abs(min(4, 6, max(2, 8)))"
      ],
      "execution_count": 5,
      "outputs": [
        {
          "output_type": "execute_result",
          "data": {
            "text/plain": [
              "4"
            ]
          },
          "metadata": {},
          "execution_count": 5
        }
      ]
    },
    {
      "cell_type": "code",
      "metadata": {
        "colab": {
          "base_uri": "https://localhost:8080/"
        },
        "id": "5ZZ0OcS5aw98",
        "outputId": "fb41f048-596c-4752-f872-fefe29c82c70"
      },
      "source": [
        "round(max(5.572, 3.258), abs(-2))"
      ],
      "execution_count": 6,
      "outputs": [
        {
          "output_type": "execute_result",
          "data": {
            "text/plain": [
              "5.57"
            ]
          },
          "metadata": {},
          "execution_count": 6
        }
      ]
    },
    {
      "cell_type": "markdown",
      "metadata": {
        "id": "NZqvgEekhh0K"
      },
      "source": [
        "Bài 3"
      ]
    },
    {
      "cell_type": "code",
      "metadata": {
        "id": "9inZT7xYbHZ8"
      },
      "source": [
        "def triple(num):\n",
        " \"\"\" (number) -> number\n",
        " Return num tripled.\n",
        " >>> triple(3)\n",
        " 9\n",
        " \"\"\"\n",
        " return num * 3"
      ],
      "execution_count": 15,
      "outputs": []
    },
    {
      "cell_type": "markdown",
      "metadata": {
        "id": "0wXz7rEphhzK"
      },
      "source": [
        "Bài 4"
      ]
    },
    {
      "cell_type": "code",
      "metadata": {
        "id": "AufMoYr2hkA_"
      },
      "source": [
        "def absolute_difference(number1, number2):\n",
        "  \"\"\" (number, number) -> number\n",
        "  Return the absolute value of the difference between number1 and number 2.\n",
        "  >>> absolute_difference(3, 7)\n",
        "  4\n",
        "  \"\"\"\n",
        "  return abs(number1 - number2)"
      ],
      "execution_count": 8,
      "outputs": []
    }
  ]
}