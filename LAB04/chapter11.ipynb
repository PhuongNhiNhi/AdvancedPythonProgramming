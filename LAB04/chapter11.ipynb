{
  "nbformat": 4,
  "nbformat_minor": 0,
  "metadata": {
    "colab": {
      "name": "chapter11.ipynb",
      "provenance": [],
      "collapsed_sections": [],
      "authorship_tag": "ABX9TyMTp8lJesapm38Rc2cH7nEX",
      "include_colab_link": true
    },
    "kernelspec": {
      "name": "python3",
      "display_name": "Python 3"
    },
    "language_info": {
      "name": "python"
    }
  },
  "cells": [
    {
      "cell_type": "markdown",
      "metadata": {
        "id": "view-in-github",
        "colab_type": "text"
      },
      "source": [
        "<a href=\"https://colab.research.google.com/github/PhuongNhiNhi/AdvancedPythonProgramming/blob/main/LAB04/chapter11.ipynb\" target=\"_parent\"><img src=\"https://colab.research.google.com/assets/colab-badge.svg\" alt=\"Open In Colab\"/></a>"
      ]
    },
    {
      "cell_type": "markdown",
      "metadata": {
        "id": "wkYL4Sg44I3-"
      },
      "source": [
        "1"
      ]
    },
    {
      "cell_type": "code",
      "metadata": {
        "colab": {
          "base_uri": "https://localhost:8080/"
        },
        "id": "SAflAHbhurf-",
        "outputId": "340118d5-c57d-488c-b1d8-ba58933f8d6e"
      },
      "source": [
        "def find_dups(L):\n",
        "    elem_set = set()\n",
        "    dups_set = set()\n",
        "    for entry in L:\n",
        "        len_initial = len(elem_set)\n",
        "        elem_set.add(entry)\n",
        "        len_after = len(elem_set)\n",
        "        if len_initial == len_after:\n",
        "            dups_set.add(entry)\n",
        "    return(dups_set)\n",
        "list_integers = [1,1,2,2,3,3,4,5,6,7,8,9]\n",
        "find_dups(list_integers)"
      ],
      "execution_count": 1,
      "outputs": [
        {
          "output_type": "execute_result",
          "data": {
            "text/plain": [
              "{1, 2, 3}"
            ]
          },
          "metadata": {},
          "execution_count": 1
        }
      ]
    },
    {
      "cell_type": "markdown",
      "metadata": {
        "id": "6CMc3keF4MkN"
      },
      "source": [
        "2"
      ]
    },
    {
      "cell_type": "code",
      "metadata": {
        "colab": {
          "base_uri": "https://localhost:8080/"
        },
        "id": "jY48TQqau3By",
        "outputId": "6b89953c-d643-41b5-e7cc-60d99a19884b"
      },
      "source": [
        "def read_molecule(reader):\n",
        "    \n",
        "    line = reader.readline()\n",
        "    if not line:\n",
        "        return None\n",
        "\n",
        "    key, name = line.split()\n",
        "\n",
        "    molecule = [name]\n",
        "    line = reader.readline()\n",
        "    \n",
        "   \n",
        "    while not line.startswith('END'):\n",
        "        key, num, atom_type, x, y, z = line.split()\n",
        "        molecule.append([atom_type, x, y, z])\n",
        "        line = reader.readline()\n",
        "    return molecule\n",
        "\n",
        "def read_all_molecules(reader):\n",
        "    result = []\n",
        "    reading = True\n",
        "    while reading:\n",
        "        molecule = read_molecule(reader)\n",
        "        if molecule: \n",
        "            result.append(molecule)\n",
        "        else:\n",
        "            reading = False\n",
        "    return result\n",
        "if __name__ == \"__main__\":\n",
        "    molecule_file = open('multimol.pdb','r')\n",
        "    molecules = read_all_molecules(molecule_file)\n",
        "    print(molecules)"
      ],
      "execution_count": 2,
      "outputs": [
        {
          "output_type": "stream",
          "name": "stdout",
          "text": [
            "[['AMMONIA', ['N', '0.257', '-0.363', '0.000'], ['H', '0.257', '0.727', '0.000'], ['H', '0.771', '-0.727', '0.890'], ['H', '0.771', '-0.727', '-0.890']], ['METHANOL', ['C', '-0.748', '-0.015', '0.024'], ['O', '0.558', '0.420', '-0.278'], ['H', '-1.293', '-0.202', '-0.901'], ['H', '-1.263', '0.754', '0.600'], ['H', '-0.699', '-0.934', '0.609'], ['H', '0.716', '1.404', '0.137']]]\n"
          ]
        }
      ]
    },
    {
      "cell_type": "markdown",
      "metadata": {
        "id": "pvoPRWcp4NyT"
      },
      "source": [
        "3"
      ]
    },
    {
      "cell_type": "code",
      "metadata": {
        "colab": {
          "base_uri": "https://localhost:8080/"
        },
        "id": "eBito-squ3oW",
        "outputId": "de9b6744-437c-44c6-badb-552ae0fa679a"
      },
      "source": [
        "def mating_pairs(males, females):\n",
        "    try:\n",
        "        pairs = set()\n",
        "        num_gerbils = len(males)\n",
        "        for i in range(num_gerbils):\n",
        "            male = males.pop()\n",
        "            female = females.pop()\n",
        "            pairs.add((male, female),)\n",
        "        return pairs\n",
        "    except:\n",
        "        return print(\"Số lượng Males và Females phải bằng nhau\")\n",
        "males = {'Nam1', 'Nam2', 'Nam3'}\n",
        "females = {'Nu1', 'Nu2', 'Nu3'}\n",
        "mating_pairs(males, females)"
      ],
      "execution_count": 3,
      "outputs": [
        {
          "output_type": "execute_result",
          "data": {
            "text/plain": [
              "{('Nam1', 'Nu3'), ('Nam2', 'Nu2'), ('Nam3', 'Nu1')}"
            ]
          },
          "metadata": {},
          "execution_count": 3
        }
      ]
    },
    {
      "cell_type": "markdown",
      "metadata": {
        "id": "n-bM0nqR4Oe_"
      },
      "source": [
        "4"
      ]
    },
    {
      "cell_type": "code",
      "metadata": {
        "colab": {
          "base_uri": "https://localhost:8080/"
        },
        "id": "Ygu1v2W4u5Ph",
        "outputId": "83ec1f34-2c7b-441a-be25-1b73a2b4bcd7"
      },
      "source": [
        "def get_authors(filenames):\n",
        "    authors = set()\n",
        "    for filename in filenames:\n",
        "        for line in open(filename,'r'):\n",
        "            if line.lower().startswith('author'):\n",
        "                author = line[6:].strip()\n",
        "                authors.add(author)\n",
        "    return authors\n",
        "if __name__ == \"__main__\":\n",
        "    list_file = ['PDB_1.pdb','PDB_2.pdb']\n",
        "    print(get_authors(list_file))"
      ],
      "execution_count": 4,
      "outputs": [
        {
          "output_type": "stream",
          "name": "stdout",
          "text": [
            "{'Nguyen Phuong Nhi', 'J.K.Rowling'}\n"
          ]
        }
      ]
    },
    {
      "cell_type": "markdown",
      "metadata": {
        "id": "3d3-aHmJ4PL8"
      },
      "source": [
        "5"
      ]
    },
    {
      "cell_type": "code",
      "metadata": {
        "colab": {
          "base_uri": "https://localhost:8080/"
        },
        "id": "NE2ztymeu8o2",
        "outputId": "715ba334-97b4-4f79-aa1b-6dc25238ccfe"
      },
      "source": [
        "def count_values(dictionary):\n",
        "  return len(set(dictionary.values()))\n",
        "count_values({'red': 1, 'green': 2, 'blue': 2})"
      ],
      "execution_count": 5,
      "outputs": [
        {
          "output_type": "execute_result",
          "data": {
            "text/plain": [
              "2"
            ]
          },
          "metadata": {},
          "execution_count": 5
        }
      ]
    },
    {
      "cell_type": "markdown",
      "metadata": {
        "id": "yFynkYCF4QP6"
      },
      "source": [
        "6"
      ]
    },
    {
      "cell_type": "code",
      "metadata": {
        "colab": {
          "base_uri": "https://localhost:8080/"
        },
        "id": "Wzi1s0NTu-Bt",
        "outputId": "86c8aa55-927c-417f-b7a5-7b777a287369"
      },
      "source": [
        "from typing import Dict\n",
        "def leastProbable(particleDict: Dict[str, float]) -> str:\n",
        "    minValue = min(particleDict.values())\n",
        "    printValue = ''\n",
        "    for key,value in particleDict.items():\n",
        "        if value == minValue:\n",
        "            return key\n",
        "\n",
        "\n",
        "values = { 'neutron ': 0.55,  'proton ': 0.21,  'meson ': 0.03,  'muon ': 0.07,  'neutrino ': 0.14}\n",
        "print(leastProbable(values))"
      ],
      "execution_count": 6,
      "outputs": [
        {
          "output_type": "stream",
          "name": "stdout",
          "text": [
            "meson \n"
          ]
        }
      ]
    },
    {
      "cell_type": "markdown",
      "metadata": {
        "id": "L-kFHzOz4Qvx"
      },
      "source": [
        "7"
      ]
    },
    {
      "cell_type": "code",
      "metadata": {
        "colab": {
          "base_uri": "https://localhost:8080/"
        },
        "id": "dQvnQUAau-h3",
        "outputId": "40c1c7e6-764d-403c-ae5f-2696a7753cf0"
      },
      "source": [
        "def count_duplicates(inDict) -> int:\n",
        "\n",
        "    lstAllValues = []\n",
        "    lstAdditional = []\n",
        "    lstFinal = []\n",
        "\n",
        "    for i in inDict.values():\n",
        "        lstAllValues.append(i)\n",
        "        lstAdditional.append(i)\n",
        "    \n",
        "    lstFinal = set(lstAllValues).intersection(lstAdditional)\n",
        "\n",
        "    return(len(lstAllValues) - len(lstFinal))\n",
        "\n",
        "\n",
        "number = {'one' : 1, 'two' : 2, 'two1' : 2, 'three1' : 3,'three' : 3}\n",
        "\n",
        "print(count_duplicates(number))"
      ],
      "execution_count": 7,
      "outputs": [
        {
          "output_type": "stream",
          "name": "stdout",
          "text": [
            "2\n"
          ]
        }
      ]
    },
    {
      "cell_type": "markdown",
      "metadata": {
        "id": "p7GMuFIS4Rpt"
      },
      "source": [
        "8"
      ]
    },
    {
      "cell_type": "code",
      "metadata": {
        "colab": {
          "base_uri": "https://localhost:8080/"
        },
        "id": "S6WCtkgZu_1G",
        "outputId": "a2c166d8-e5a1-4455-bf96-4bf506a0a22d"
      },
      "source": [
        "def is_balanced (inDict:[str, float]) -> bool:\n",
        "    \n",
        "    sumVar = 0.0\n",
        "\n",
        "    for i in inDict.values():\n",
        "        sumVar = sumVar + i \n",
        "\n",
        "    return sumVar == 1\n",
        "\n",
        "\n",
        "RGB = {'R' : 0.7 , 'G' : 0.1, 'B' : 0.2}\n",
        "\n",
        "print(is_balanced(RGB))"
      ],
      "execution_count": 8,
      "outputs": [
        {
          "output_type": "stream",
          "name": "stdout",
          "text": [
            "True\n"
          ]
        }
      ]
    },
    {
      "cell_type": "markdown",
      "metadata": {
        "id": "zK_1VLJP4SOQ"
      },
      "source": [
        "9"
      ]
    },
    {
      "cell_type": "code",
      "metadata": {
        "colab": {
          "base_uri": "https://localhost:8080/"
        },
        "id": "jm54cJfKvBMk",
        "outputId": "df3a4acc-5690-47fb-c7a2-a07eab872a03"
      },
      "source": [
        "def dict_interest(dict1, dict2):\n",
        "    intersection = {}\n",
        "    for (key, value) in dict1.items():\n",
        "        if key in dict2 and value == dict2[key]:\n",
        "            intersection[key] = value\n",
        "\n",
        "    return intersection\n",
        "dict_interest({'a': 1, 'b': 2, 'c': 3}, {'a': 1, 'b': 2, 'd': 2})"
      ],
      "execution_count": 9,
      "outputs": [
        {
          "output_type": "execute_result",
          "data": {
            "text/plain": [
              "{'a': 1, 'b': 2}"
            ]
          },
          "metadata": {},
          "execution_count": 9
        }
      ]
    },
    {
      "cell_type": "markdown",
      "metadata": {
        "id": "_HeFSz_H4TLG"
      },
      "source": [
        "10"
      ]
    },
    {
      "cell_type": "code",
      "metadata": {
        "colab": {
          "base_uri": "https://localhost:8080/"
        },
        "id": "lEfMt-tl3Gr4",
        "outputId": "dddc3981-0d58-459c-ebb5-514ce431f8a2"
      },
      "source": [
        "def db_headings(dict_of_dict):\n",
        "    inner_keys = set()\n",
        "    for key in dict_of_dict:\n",
        "        for inner_key in dict_of_dict[key]:\n",
        "            inner_keys.add(inner_key)\n",
        "    return inner_keys\n",
        "    \n",
        "db_headings(\n",
        "{'jgoodall' : {'surname' : 'Goodall',\n",
        "'forename' : 'Jane',\n",
        "'born' : 1934,\n",
        "'died' : None,\n",
        "'notes' : 'primate researcher',\n",
        "'author' : ['In the Shadow of Man',\n",
        "'The Chimpanzees of Gombe']},\n",
        "\n",
        "'rfranklin' : {'surname' : 'Franklin',\n",
        "'forename' : 'Rosalind',\n",
        "'born' : 1920,\n",
        "'died' : 1957,\n",
        "'notes' : 'contributed to discovery of DNA'},\n",
        "\n",
        "'rcarson' : {'surname' : 'Carson',\n",
        "'forename' : 'Rachel',\n",
        "'born' : 1907,\n",
        "'died' : 1964,\n",
        "'notes' : 'raised awareness of effects of DDT',\n",
        "'author' : ['Silent Spring']}\n",
        "}\n",
        ")"
      ],
      "execution_count": 10,
      "outputs": [
        {
          "output_type": "execute_result",
          "data": {
            "text/plain": [
              "{'author', 'born', 'died', 'forename', 'notes', 'surname'}"
            ]
          },
          "metadata": {},
          "execution_count": 10
        }
      ]
    },
    {
      "cell_type": "markdown",
      "metadata": {
        "id": "oO0QXHlr4Tx6"
      },
      "source": [
        "11"
      ]
    },
    {
      "cell_type": "code",
      "metadata": {
        "colab": {
          "base_uri": "https://localhost:8080/"
        },
        "id": "jT6AKJ_23Ahk",
        "outputId": "b3a9fc8e-8383-4c6b-806a-93bb9815b18e"
      },
      "source": [
        "def db_consistent(dict_of_dict):\n",
        "    inner_keys_list = []\n",
        "    # List of list of keys\n",
        "    for key in dict_of_dict:\n",
        "        inner_keys = list(dict_of_dict[key].keys())\n",
        "        inner_keys.sort()\n",
        "        inner_keys_list.append(inner_keys)\n",
        "        \n",
        "    for i in range(1, len(inner_keys_list)):\n",
        "        # If the number of keys is different.\n",
        "        if len(inner_keys_list[0]) != len(inner_keys_list[i]):\n",
        "            return False\n",
        "\n",
        "        # If the keys don't match.\n",
        "        for j in range(len(inner_keys_list[0])):\n",
        "            if inner_keys_list[0][j] != inner_keys_list[i][j]:\n",
        "                return False\n",
        "    return True\n",
        "\n",
        "db_consistent(\n",
        "{'jgoodall' : {'surname' : 'Goodall',\n",
        "'forename' : 'Jane',\n",
        "'born' : 1934,\n",
        "'died' : None,\n",
        "'notes' : 'primate researcher',\n",
        "'author' : ['In the Shadow of Man',\n",
        "'The Chimpanzees of Gombe']},\n",
        "\n",
        "'rfranklin' : {'surname' : 'Franklin',\n",
        "'forename' : 'Rosalind',\n",
        "'born' : 1920,\n",
        "'died' : 1957,\n",
        "'notes' : 'contributed to discovery of DNA'},\n",
        "\n",
        "'rcarson' : {'surname' : 'Carson',\n",
        "'forename' : 'Rachel',\n",
        "'born' : 1907,\n",
        "'died' : 1964,\n",
        "'notes' : 'raised awareness of effects of DDT',\n",
        "'author' : ['Silent Spring']}\n",
        "}\n",
        ")\n"
      ],
      "execution_count": 11,
      "outputs": [
        {
          "output_type": "execute_result",
          "data": {
            "text/plain": [
              "False"
            ]
          },
          "metadata": {},
          "execution_count": 11
        }
      ]
    },
    {
      "cell_type": "markdown",
      "metadata": {
        "id": "78B2jJgM3W2f"
      },
      "source": [
        "12"
      ]
    },
    {
      "cell_type": "code",
      "metadata": {
        "colab": {
          "base_uri": "https://localhost:8080/"
        },
        "id": "P5jMmakC4Y6l",
        "outputId": "03540196-06a1-4107-d44b-6f718919d61a"
      },
      "source": [
        "#A\n",
        "def sparse_add(vector1, vector2):\n",
        "  sum_vector = vector1.copy()\n",
        "  for key in vector2:\n",
        "    if key in sum_vector:\n",
        "      sum_vector[key] = sum_vector[key] + vector2[key]\n",
        "    else:\n",
        "      sum_vector[key] = vector2[key]\n",
        "  return sum_vector\n",
        "sparse_add({1: 3, 3: 4}, {2: 4, 3: 5, 5: 6})"
      ],
      "execution_count": 12,
      "outputs": [
        {
          "output_type": "execute_result",
          "data": {
            "text/plain": [
              "{1: 3, 2: 4, 3: 9, 5: 6}"
            ]
          },
          "metadata": {},
          "execution_count": 12
        }
      ]
    },
    {
      "cell_type": "code",
      "metadata": {
        "colab": {
          "base_uri": "https://localhost:8080/"
        },
        "id": "f5nhPqKJ4ZDx",
        "outputId": "3711fd19-632c-437c-e339-ffa02b7380e1"
      },
      "source": [
        "#B\n",
        "def sparse_dot(vector1, vector2):\n",
        "  dot = 0\n",
        "  for key1 in vector1:\n",
        "    if key1 in vector2:\n",
        "      dot = dot + vector1[key1] * vector2[key1]\n",
        "  return dot\n",
        "sparse_dot({1: 3, 3: 4}, {2: 4, 3: 5, 5: 6})"
      ],
      "execution_count": 13,
      "outputs": [
        {
          "output_type": "execute_result",
          "data": {
            "text/plain": [
              "20"
            ]
          },
          "metadata": {},
          "execution_count": 13
        }
      ]
    }
  ]
}