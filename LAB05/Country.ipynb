{
  "nbformat": 4,
  "nbformat_minor": 0,
  "metadata": {
    "colab": {
      "name": "Untitled10.ipynb",
      "provenance": [],
      "authorship_tag": "ABX9TyPgPiKhRI8dfYXw7STu615s",
      "include_colab_link": true
    },
    "kernelspec": {
      "name": "python3",
      "display_name": "Python 3"
    },
    "language_info": {
      "name": "python"
    }
  },
  "cells": [
    {
      "cell_type": "markdown",
      "metadata": {
        "id": "view-in-github",
        "colab_type": "text"
      },
      "source": [
        "<a href=\"https://colab.research.google.com/github/PhuongNhiNhi/AdvancedPythonProgramming/blob/main/LAB05/Country.ipynb\" target=\"_parent\"><img src=\"https://colab.research.google.com/assets/colab-badge.svg\" alt=\"Open In Colab\"/></a>"
      ]
    },
    {
      "cell_type": "code",
      "metadata": {
        "id": "r-0QGtEjqjgV"
      },
      "source": [
        "class Country:\n",
        "  def __init__(self, name, population, area):\n",
        "    self.name = name\n",
        "    self.population = population\n",
        "    self.area = area\n",
        "\n",
        "  def is_larger(self, objCountry):\n",
        "    if self.area > objCountry.area:\n",
        "      return True\n",
        "    else:\n",
        "      return False\n",
        "    \n",
        "  def population_density(self):\n",
        "    return self.population/self.area"
      ],
      "execution_count": null,
      "outputs": []
    }
  ]
}