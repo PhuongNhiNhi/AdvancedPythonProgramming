{
  "nbformat": 4,
  "nbformat_minor": 0,
  "metadata": {
    "colab": {
      "name": "baitap05.ipynb",
      "provenance": [],
      "authorship_tag": "ABX9TyOl9Hk/tyJ/43ZRbwronVqw",
      "include_colab_link": true
    },
    "kernelspec": {
      "name": "python3",
      "display_name": "Python 3"
    },
    "language_info": {
      "name": "python"
    }
  },
  "cells": [
    {
      "cell_type": "markdown",
      "metadata": {
        "id": "view-in-github",
        "colab_type": "text"
      },
      "source": [
        "<a href=\"https://colab.research.google.com/github/PhuongNhiNhi/AdvancedPythonProgramming/blob/main/LAB05/baitap05.ipynb\" target=\"_parent\"><img src=\"https://colab.research.google.com/assets/colab-badge.svg\" alt=\"Open In Colab\"/></a>"
      ]
    },
    {
      "cell_type": "code",
      "metadata": {
        "id": "tncDZy87eJL7"
      },
      "source": [
        "from Country import Country\n"
      ],
      "execution_count": 1,
      "outputs": []
    },
    {
      "cell_type": "code",
      "metadata": {
        "colab": {
          "base_uri": "https://localhost:8080/",
          "height": 35
        },
        "id": "RnS6L0F8eya3",
        "outputId": "270fdbea-97bf-432e-94b8-4a50c8408e24"
      },
      "source": [
        "canada = Country('Canada', 34482779, 9984670)\n",
        "canada.name"
      ],
      "execution_count": 2,
      "outputs": [
        {
          "output_type": "execute_result",
          "data": {
            "application/vnd.google.colaboratory.intrinsic+json": {
              "type": "string"
            },
            "text/plain": [
              "'Canada'"
            ]
          },
          "metadata": {},
          "execution_count": 2
        }
      ]
    },
    {
      "cell_type": "code",
      "metadata": {
        "colab": {
          "base_uri": "https://localhost:8080/"
        },
        "id": "UJZ1S6PPfnAo",
        "outputId": "e15f05bc-83e9-4df7-a02f-ae7b7af97e53"
      },
      "source": [
        "canada.population"
      ],
      "execution_count": 3,
      "outputs": [
        {
          "output_type": "execute_result",
          "data": {
            "text/plain": [
              "34482779"
            ]
          },
          "metadata": {},
          "execution_count": 3
        }
      ]
    },
    {
      "cell_type": "code",
      "metadata": {
        "colab": {
          "base_uri": "https://localhost:8080/"
        },
        "id": "ttmoLONffprk",
        "outputId": "4dfdc02d-cc05-47d2-b0eb-abfaedf10d20"
      },
      "source": [
        "canada.area"
      ],
      "execution_count": 4,
      "outputs": [
        {
          "output_type": "execute_result",
          "data": {
            "text/plain": [
              "9984670"
            ]
          },
          "metadata": {},
          "execution_count": 4
        }
      ]
    },
    {
      "cell_type": "code",
      "metadata": {
        "id": "t1va7Z4KgG78"
      },
      "source": [
        "canada = Country('Canada', 34482779, 9984670)"
      ],
      "execution_count": 5,
      "outputs": []
    },
    {
      "cell_type": "code",
      "metadata": {
        "id": "GbpfjPAHhyD5"
      },
      "source": [
        "usa = Country('United States of America', 313914040, 9826675)"
      ],
      "execution_count": 6,
      "outputs": []
    },
    {
      "cell_type": "code",
      "metadata": {
        "colab": {
          "base_uri": "https://localhost:8080/"
        },
        "id": "Ck395FKMh6z3",
        "outputId": "579ad70a-42c0-4a5d-e9fb-34e0668b4c91"
      },
      "source": [
        "canada.is_larger(usa)"
      ],
      "execution_count": 7,
      "outputs": [
        {
          "output_type": "execute_result",
          "data": {
            "text/plain": [
              "True"
            ]
          },
          "metadata": {},
          "execution_count": 7
        }
      ]
    },
    {
      "cell_type": "code",
      "metadata": {
        "colab": {
          "base_uri": "https://localhost:8080/"
        },
        "id": "zsw0e7kuibdv",
        "outputId": "0d3af984-e115-4f87-ad12-2a4a3c7d3227"
      },
      "source": [
        "print(canada.population_density())"
      ],
      "execution_count": 8,
      "outputs": [
        {
          "output_type": "stream",
          "name": "stdout",
          "text": [
            "3.4535722262227995\n"
          ]
        }
      ]
    },
    {
      "cell_type": "code",
      "metadata": {
        "id": "9qL424Fkojcs"
      },
      "source": [
        "#usa = Country('United States of America', 313914040, 9826675)\n",
        "#print(usa)"
      ],
      "execution_count": 9,
      "outputs": []
    },
    {
      "cell_type": "code",
      "metadata": {
        "id": "W010cv1YsFo_"
      },
      "source": [
        "#canada = Country('Canada', 34482779, 9984670)\n",
        "#canada"
      ],
      "execution_count": 10,
      "outputs": []
    },
    {
      "cell_type": "code",
      "metadata": {
        "id": "UAXD497QsJZX"
      },
      "source": [
        "#print(canada)"
      ],
      "execution_count": 11,
      "outputs": []
    },
    {
      "cell_type": "code",
      "metadata": {
        "id": "ddqQOSNssS1D"
      },
      "source": [
        "#[canada]"
      ],
      "execution_count": 12,
      "outputs": []
    },
    {
      "cell_type": "code",
      "metadata": {
        "id": "LRwn0tYxsZvQ"
      },
      "source": [
        "#print([canada])"
      ],
      "execution_count": 13,
      "outputs": []
    }
  ]
}