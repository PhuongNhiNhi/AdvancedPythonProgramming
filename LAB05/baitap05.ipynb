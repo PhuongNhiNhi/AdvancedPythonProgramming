{
  "nbformat": 4,
  "nbformat_minor": 0,
  "metadata": {
    "colab": {
      "name": "baitap05.ipynb",
      "provenance": [],
      "authorship_tag": "ABX9TyO09Vio4Ft74AHloBGKrVwQ",
      "include_colab_link": true
    },
    "kernelspec": {
      "name": "python3",
      "display_name": "Python 3"
    },
    "language_info": {
      "name": "python"
    }
  },
  "cells": [
    {
      "cell_type": "markdown",
      "metadata": {
        "id": "view-in-github",
        "colab_type": "text"
      },
      "source": [
        "<a href=\"https://colab.research.google.com/github/PhuongNhiNhi/AdvancedPythonProgramming/blob/main/LAB05/baitap05.ipynb\" target=\"_parent\"><img src=\"https://colab.research.google.com/assets/colab-badge.svg\" alt=\"Open In Colab\"/></a>"
      ]
    },
    {
      "cell_type": "markdown",
      "metadata": {
        "id": "SxMQY5XuuTna"
      },
      "source": [
        "CÂU 1"
      ]
    },
    {
      "cell_type": "code",
      "metadata": {
        "id": "tncDZy87eJL7"
      },
      "source": [
        "from Country import Country\n"
      ],
      "execution_count": 1,
      "outputs": []
    },
    {
      "cell_type": "code",
      "metadata": {
        "colab": {
          "base_uri": "https://localhost:8080/",
          "height": 35
        },
        "id": "RnS6L0F8eya3",
        "outputId": "dfeb4be0-1dc3-41a8-c53d-bfdd3317e7ca"
      },
      "source": [
        "canada = Country('Canada', 34482779, 9984670)\n",
        "canada.name"
      ],
      "execution_count": 2,
      "outputs": [
        {
          "output_type": "execute_result",
          "data": {
            "application/vnd.google.colaboratory.intrinsic+json": {
              "type": "string"
            },
            "text/plain": [
              "'Canada'"
            ]
          },
          "metadata": {},
          "execution_count": 2
        }
      ]
    },
    {
      "cell_type": "code",
      "metadata": {
        "colab": {
          "base_uri": "https://localhost:8080/"
        },
        "id": "UJZ1S6PPfnAo",
        "outputId": "45d1d99f-d25b-4526-92a7-f9c8207276ad"
      },
      "source": [
        "canada.population"
      ],
      "execution_count": 3,
      "outputs": [
        {
          "output_type": "execute_result",
          "data": {
            "text/plain": [
              "34482779"
            ]
          },
          "metadata": {},
          "execution_count": 3
        }
      ]
    },
    {
      "cell_type": "code",
      "metadata": {
        "colab": {
          "base_uri": "https://localhost:8080/"
        },
        "id": "ttmoLONffprk",
        "outputId": "ace1b3f3-ac0f-44ce-b138-29c6e6d6c9bc"
      },
      "source": [
        "canada.area"
      ],
      "execution_count": 4,
      "outputs": [
        {
          "output_type": "execute_result",
          "data": {
            "text/plain": [
              "9984670"
            ]
          },
          "metadata": {},
          "execution_count": 4
        }
      ]
    },
    {
      "cell_type": "code",
      "metadata": {
        "id": "t1va7Z4KgG78"
      },
      "source": [
        "canada = Country('Canada', 34482779, 9984670)"
      ],
      "execution_count": 5,
      "outputs": []
    },
    {
      "cell_type": "code",
      "metadata": {
        "id": "GbpfjPAHhyD5"
      },
      "source": [
        "usa = Country('United States of America', 313914040, 9826675)"
      ],
      "execution_count": 6,
      "outputs": []
    },
    {
      "cell_type": "code",
      "metadata": {
        "colab": {
          "base_uri": "https://localhost:8080/"
        },
        "id": "Ck395FKMh6z3",
        "outputId": "c795baa1-317f-48af-df60-0faa12cc1480"
      },
      "source": [
        "canada.is_larger(usa)"
      ],
      "execution_count": 7,
      "outputs": [
        {
          "output_type": "execute_result",
          "data": {
            "text/plain": [
              "True"
            ]
          },
          "metadata": {},
          "execution_count": 7
        }
      ]
    },
    {
      "cell_type": "code",
      "metadata": {
        "colab": {
          "base_uri": "https://localhost:8080/"
        },
        "id": "zsw0e7kuibdv",
        "outputId": "ce030dbb-67f9-47e6-83ae-8921b2da8509"
      },
      "source": [
        "print(canada.population_density())"
      ],
      "execution_count": 8,
      "outputs": [
        {
          "output_type": "stream",
          "name": "stdout",
          "text": [
            "3.4535722262227995\n"
          ]
        }
      ]
    },
    {
      "cell_type": "code",
      "metadata": {
        "id": "9qL424Fkojcs",
        "outputId": "3934f8a1-ce4b-4698-a7b2-0b87f5b38c8f",
        "colab": {
          "base_uri": "https://localhost:8080/"
        }
      },
      "source": [
        "usa = Country('United States of America', 313914040, 9826675)\n",
        "print(usa)"
      ],
      "execution_count": 9,
      "outputs": [
        {
          "output_type": "stream",
          "name": "stdout",
          "text": [
            "United States of America has a population of 313914040 and its area is 9826675 square kilometers.\n"
          ]
        }
      ]
    },
    {
      "cell_type": "code",
      "metadata": {
        "id": "W010cv1YsFo_",
        "outputId": "1f6d6c3e-2a22-4ff4-fc0f-02b1ddffa56f",
        "colab": {
          "base_uri": "https://localhost:8080/"
        }
      },
      "source": [
        "canada = Country('Canada', 34482779, 9984670)\n",
        "canada"
      ],
      "execution_count": 10,
      "outputs": [
        {
          "output_type": "execute_result",
          "data": {
            "text/plain": [
              "Country('Canada', 34482779, 9984670)"
            ]
          },
          "metadata": {},
          "execution_count": 10
        }
      ]
    },
    {
      "cell_type": "code",
      "metadata": {
        "id": "UAXD497QsJZX",
        "outputId": "f28f431d-8a6b-4b67-c9ef-b7c5dcc12d91",
        "colab": {
          "base_uri": "https://localhost:8080/"
        }
      },
      "source": [
        "print(canada)"
      ],
      "execution_count": 11,
      "outputs": [
        {
          "output_type": "stream",
          "name": "stdout",
          "text": [
            "Canada has a population of 34482779 and its area is 9984670 square kilometers.\n"
          ]
        }
      ]
    },
    {
      "cell_type": "code",
      "metadata": {
        "id": "ddqQOSNssS1D",
        "outputId": "84ed830b-bd31-45d3-d687-e587baa7fe2b",
        "colab": {
          "base_uri": "https://localhost:8080/"
        }
      },
      "source": [
        "[canada]"
      ],
      "execution_count": 12,
      "outputs": [
        {
          "output_type": "execute_result",
          "data": {
            "text/plain": [
              "[Country('Canada', 34482779, 9984670)]"
            ]
          },
          "metadata": {},
          "execution_count": 12
        }
      ]
    },
    {
      "cell_type": "code",
      "metadata": {
        "id": "LRwn0tYxsZvQ",
        "outputId": "0bd02319-1880-4586-b5e1-ecdcad6a85bd",
        "colab": {
          "base_uri": "https://localhost:8080/"
        }
      },
      "source": [
        "print([canada])"
      ],
      "execution_count": 13,
      "outputs": [
        {
          "output_type": "stream",
          "name": "stdout",
          "text": [
            "[Country('Canada', 34482779, 9984670)]\n"
          ]
        }
      ]
    },
    {
      "cell_type": "markdown",
      "metadata": {
        "id": "tej5WOxWuZmR"
      },
      "source": [
        "CÂU 2"
      ]
    },
    {
      "cell_type": "code",
      "metadata": {
        "id": "UUmq3qhoucLH"
      },
      "source": [
        "from Continent import Continent\n",
        "from Country import Country"
      ],
      "execution_count": 17,
      "outputs": []
    },
    {
      "cell_type": "code",
      "metadata": {
        "id": "TkGP1U_iufZ-",
        "outputId": "a981630c-081e-4076-902c-6b31a5265159",
        "colab": {
          "base_uri": "https://localhost:8080/"
        }
      },
      "source": [
        "canada = Country('Canada', 34482779, 9984670)\n",
        "usa = Country('United States of America', 313914040,9826675)\n",
        "mexico = Country('Mexico', 112336538, 1943950)\n",
        "\n",
        "countries = [canada, usa , mexico]\n",
        "north_america = Continent('North America', countries)\n",
        "\n",
        "for country in north_america.countries:\n",
        "    print(country)"
      ],
      "execution_count": 18,
      "outputs": [
        {
          "output_type": "stream",
          "name": "stdout",
          "text": [
            "Canada has a population of 34482779 and its area is 9984670 square kilometers.\n",
            "United States of America has a population of 313914040 and its area is 9826675 square kilometers.\n",
            "Mexico has a population of 112336538 and its area is 1943950 square kilometers.\n"
          ]
        }
      ]
    },
    {
      "cell_type": "code",
      "metadata": {
        "id": "IUGE8CL6vD3a",
        "outputId": "27e43574-b4dd-47af-8f8c-fd75f8db5f90",
        "colab": {
          "base_uri": "https://localhost:8080/"
        }
      },
      "source": [
        "print(north_america.total_population())"
      ],
      "execution_count": 19,
      "outputs": [
        {
          "output_type": "stream",
          "name": "stdout",
          "text": [
            "460733357\n"
          ]
        }
      ]
    },
    {
      "cell_type": "code",
      "metadata": {
        "id": "_TYj1QiHvG89",
        "outputId": "799320fb-3d3d-4b36-836e-1175ecf80c4f",
        "colab": {
          "base_uri": "https://localhost:8080/"
        }
      },
      "source": [
        "print(north_america)"
      ],
      "execution_count": 20,
      "outputs": [
        {
          "output_type": "stream",
          "name": "stdout",
          "text": [
            "North America\n",
            "Canada has a population of 34482779 and is 9984670 square km.\n",
            "United States of America has a population of 313914040 and is 9826675 square km.\n",
            "Mexico has a population of 112336538 and is 1943950 square km.\n",
            "\n"
          ]
        }
      ]
    },
    {
      "cell_type": "markdown",
      "metadata": {
        "id": "YXndvzULvLfd"
      },
      "source": [
        "CÂU 3"
      ]
    },
    {
      "cell_type": "code",
      "metadata": {
        "id": "eWHoTvmIvMn9"
      },
      "source": [
        "from Student import Student"
      ],
      "execution_count": 21,
      "outputs": []
    },
    {
      "cell_type": "code",
      "metadata": {
        "id": "JJpk8Qy6vOMd",
        "outputId": "73389f3d-a40a-4bbd-fab9-10ce19811ac7",
        "colab": {
          "base_uri": "https://localhost:8080/"
        }
      },
      "source": [
        "student1 = Student(\"Phuong Nhi\",\"Da Nang\",\"nhiipp@gmail.com\",30060)\n",
        "print(student1)"
      ],
      "execution_count": 24,
      "outputs": [
        {
          "output_type": "stream",
          "name": "stdout",
          "text": [
            "Name of the student : Phuong Nhi \n",
            "Address : Da Nang \n",
            "email : nhiipp@gmail.com \n",
            "Student number : 30060 \n",
            "Courses_taken : [] \n",
            "Courses_taking : [] \n",
            "\n"
          ]
        }
      ]
    },
    {
      "cell_type": "code",
      "metadata": {
        "id": "ubhdGeLMvdQu",
        "outputId": "0404e0ac-7956-4770-89aa-2543813c2204",
        "colab": {
          "base_uri": "https://localhost:8080/"
        }
      },
      "source": [
        "student1.courses_taken = [\"Python\",\"OOP\"]\n",
        "print(student1)"
      ],
      "execution_count": 25,
      "outputs": [
        {
          "output_type": "stream",
          "name": "stdout",
          "text": [
            "Name of the student : Phuong Nhi \n",
            "Address : Da Nang \n",
            "email : nhiipp@gmail.com \n",
            "Student number : 30060 \n",
            "Courses_taken : ['Python', 'OOP'] \n",
            "Courses_taking : [] \n",
            "\n"
          ]
        }
      ]
    },
    {
      "cell_type": "code",
      "metadata": {
        "id": "Zt6wwrEIvg-L",
        "outputId": "751d0620-802e-47e1-f47a-362800b118eb",
        "colab": {
          "base_uri": "https://localhost:8080/"
        }
      },
      "source": [
        "student1.courses_taking = [\"Advanced python programming\"]\n",
        "print(student1)"
      ],
      "execution_count": 26,
      "outputs": [
        {
          "output_type": "stream",
          "name": "stdout",
          "text": [
            "Name of the student : Phuong Nhi \n",
            "Address : Da Nang \n",
            "email : nhiipp@gmail.com \n",
            "Student number : 30060 \n",
            "Courses_taken : ['Python', 'OOP'] \n",
            "Courses_taking : ['Advanced python programming'] \n",
            "\n"
          ]
        }
      ]
    },
    {
      "cell_type": "markdown",
      "metadata": {
        "id": "zONiqkJRvlMa"
      },
      "source": [
        "CAU 4"
      ]
    },
    {
      "cell_type": "code",
      "metadata": {
        "id": "Im84XjyQvmKX"
      },
      "source": [
        "from Nematode import Nematode"
      ],
      "execution_count": 27,
      "outputs": []
    },
    {
      "cell_type": "code",
      "metadata": {
        "id": "6VQOrqdcvoLE",
        "outputId": "3eeae3e7-15c0-4da3-c3b0-8950aa500331",
        "colab": {
          "base_uri": "https://localhost:8080/"
        }
      },
      "source": [
        "nematode1 = Nematode(\"1\",\"male\",\"4\",)\n",
        "print(nematode1)"
      ],
      "execution_count": 28,
      "outputs": [
        {
          "output_type": "stream",
          "name": "stdout",
          "text": [
            "Nematode details:\n",
            "body length : 1\n",
            "gender : male\n",
            "age :4\n"
          ]
        }
      ]
    },
    {
      "cell_type": "markdown",
      "metadata": {
        "id": "1yRMlZTvvp6x"
      },
      "source": [
        "CAU 5"
      ]
    },
    {
      "cell_type": "code",
      "metadata": {
        "id": "l0t2n8ZWvqzI"
      },
      "source": [
        "from Point import Point\n",
        "from Point import LineSegment"
      ],
      "execution_count": 29,
      "outputs": []
    },
    {
      "cell_type": "code",
      "metadata": {
        "id": "tixaVuhWvuZP",
        "outputId": "7d509665-f64d-4451-a664-0b2bb4ebb851",
        "colab": {
          "base_uri": "https://localhost:8080/"
        }
      },
      "source": [
        "segment = LineSegment(Point(1, 1), Point(3, 2))\n",
        "segment.slope()"
      ],
      "execution_count": 30,
      "outputs": [
        {
          "output_type": "execute_result",
          "data": {
            "text/plain": [
              "2.0"
            ]
          },
          "metadata": {},
          "execution_count": 30
        }
      ]
    },
    {
      "cell_type": "code",
      "metadata": {
        "id": "kyHOOyJ8vv49",
        "outputId": "eb3ea243-db0f-46b6-a7c9-c01dd0200967",
        "colab": {
          "base_uri": "https://localhost:8080/"
        }
      },
      "source": [
        "segment.length()"
      ],
      "execution_count": 31,
      "outputs": [
        {
          "output_type": "execute_result",
          "data": {
            "text/plain": [
              "2.23606797749979"
            ]
          },
          "metadata": {},
          "execution_count": 31
        }
      ]
    }
  ]
}