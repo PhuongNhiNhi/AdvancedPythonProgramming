{
  "nbformat": 4,
  "nbformat_minor": 0,
  "metadata": {
    "colab": {
      "name": "Untitled4.ipynb",
      "provenance": [],
      "authorship_tag": "ABX9TyPiZ9xZp+xMj08oY2QGUrHM",
      "include_colab_link": true
    },
    "kernelspec": {
      "name": "python3",
      "display_name": "Python 3"
    },
    "language_info": {
      "name": "python"
    }
  },
  "cells": [
    {
      "cell_type": "markdown",
      "metadata": {
        "id": "view-in-github",
        "colab_type": "text"
      },
      "source": [
        "<a href=\"https://colab.research.google.com/github/PhuongNhiNhi/AdvancedPythonProgramming/blob/main/Lab03/Ch%C6%B0%C6%A1ng10.ipynb\" target=\"_parent\"><img src=\"https://colab.research.google.com/assets/colab-badge.svg\" alt=\"Open In Colab\"/></a>"
      ]
    },
    {
      "cell_type": "code",
      "metadata": {
        "id": "z--a33NPZ_ia"
      },
      "source": [
        "filename = input('Which file would you like to back-up? ')\n",
        "new_filename = filename + '.bak'\n",
        "backup = open(new_filename, 'w')\n",
        "for line in open(filename):\n",
        "  backup.write(line)\n",
        "  backup.close()"
      ],
      "execution_count": null,
      "outputs": []
    }
  ]
}